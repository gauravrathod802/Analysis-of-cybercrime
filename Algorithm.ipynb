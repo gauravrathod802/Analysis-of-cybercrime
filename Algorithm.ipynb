{
 "cells": [
  {
   "cell_type": "code",
   "execution_count": 9,
   "metadata": {},
   "outputs": [
    {
     "name": "stdout",
     "output_type": "stream",
     "text": [
      "Index(['S. No', 'Category', 'State/UT', '2016', '2017', '2018',\n",
      "       'Percentage Share of State/UT (2018)',\n",
      "       'Mid-Year Projected Population (in Lakhs) (2018)+',\n",
      "       'Rate of Total Cyber Crimes (2018)++'],\n",
      "      dtype='object')\n"
     ]
    }
   ],
   "source": [
    "import pandas as pd\n",
    "import numpy as np\n",
    "df = pd.read_csv('cyber_crimes.csv')\n",
    "\n",
    "print(data.columns)\n"
   ]
  },
  {
   "cell_type": "code",
   "execution_count": 10,
   "metadata": {},
   "outputs": [
    {
     "data": {
      "text/html": [
       "<div>\n",
       "<style scoped>\n",
       "    .dataframe tbody tr th:only-of-type {\n",
       "        vertical-align: middle;\n",
       "    }\n",
       "\n",
       "    .dataframe tbody tr th {\n",
       "        vertical-align: top;\n",
       "    }\n",
       "\n",
       "    .dataframe thead th {\n",
       "        text-align: right;\n",
       "    }\n",
       "</style>\n",
       "<table border=\"1\" class=\"dataframe\">\n",
       "  <thead>\n",
       "    <tr style=\"text-align: right;\">\n",
       "      <th></th>\n",
       "      <th>S. No\\tCategory\\tState/UT\\t2016\\t2017\\t2018\\tPercentage Share of State/UT (2018)\\tMid-Year Projected Population (in Lakhs) (2018)+\\tRate of Total Cyber Crimes (2018)++</th>\n",
       "    </tr>\n",
       "  </thead>\n",
       "  <tbody>\n",
       "    <tr>\n",
       "      <th>0</th>\n",
       "      <td>1\\tState\\tAndhra Pradesh\\t616\\t931\\t1207\\t4.4\\...</td>\n",
       "    </tr>\n",
       "    <tr>\n",
       "      <th>1</th>\n",
       "      <td>2\\tState\\tArunachal Pradesh\\t4\\t1\\t7\\t0\\t14.9\\...</td>\n",
       "    </tr>\n",
       "    <tr>\n",
       "      <th>2</th>\n",
       "      <td>3\\tState\\tAssam\\t696\\t1120\\t2022\\t7.4\\t340.4\\t5.9</td>\n",
       "    </tr>\n",
       "    <tr>\n",
       "      <th>3</th>\n",
       "      <td>4\\tState\\tBihar\\t309\\t433\\t374\\t1.4\\t1183.3\\t0.3</td>\n",
       "    </tr>\n",
       "    <tr>\n",
       "      <th>4</th>\n",
       "      <td>5\\tState\\tChhattisgarh\\t90\\t171\\t139\\t0.5\\t284...</td>\n",
       "    </tr>\n",
       "  </tbody>\n",
       "</table>\n",
       "</div>"
      ],
      "text/plain": [
       "  S. No\\tCategory\\tState/UT\\t2016\\t2017\\t2018\\tPercentage Share of State/UT (2018)\\tMid-Year Projected Population (in Lakhs) (2018)+\\tRate of Total Cyber Crimes (2018)++\n",
       "0  1\\tState\\tAndhra Pradesh\\t616\\t931\\t1207\\t4.4\\...                                                                                                                     \n",
       "1  2\\tState\\tArunachal Pradesh\\t4\\t1\\t7\\t0\\t14.9\\...                                                                                                                     \n",
       "2  3\\tState\\tAssam\\t696\\t1120\\t2022\\t7.4\\t340.4\\t5.9                                                                                                                     \n",
       "3   4\\tState\\tBihar\\t309\\t433\\t374\\t1.4\\t1183.3\\t0.3                                                                                                                     \n",
       "4  5\\tState\\tChhattisgarh\\t90\\t171\\t139\\t0.5\\t284...                                                                                                                     "
      ]
     },
     "execution_count": 10,
     "metadata": {},
     "output_type": "execute_result"
    }
   ],
   "source": [
    "\n",
    "#print(df.head())\n",
    "df.head(5)"
   ]
  },
  {
   "cell_type": "code",
   "execution_count": 8,
   "metadata": {},
   "outputs": [
    {
     "data": {
      "text/html": [
       "<div>\n",
       "<style scoped>\n",
       "    .dataframe tbody tr th:only-of-type {\n",
       "        vertical-align: middle;\n",
       "    }\n",
       "\n",
       "    .dataframe tbody tr th {\n",
       "        vertical-align: top;\n",
       "    }\n",
       "\n",
       "    .dataframe thead th {\n",
       "        text-align: right;\n",
       "    }\n",
       "</style>\n",
       "<table border=\"1\" class=\"dataframe\">\n",
       "  <thead>\n",
       "    <tr style=\"text-align: right;\">\n",
       "      <th></th>\n",
       "      <th>S. No\\tCategory\\tState/UT\\t2016\\t2017\\t2018\\tPercentage Share of State/UT (2018)\\tMid-Year Projected Population (in Lakhs) (2018)+\\tRate of Total Cyber Crimes (2018)++</th>\n",
       "    </tr>\n",
       "  </thead>\n",
       "  <tbody>\n",
       "    <tr>\n",
       "      <th>count</th>\n",
       "      <td>39</td>\n",
       "    </tr>\n",
       "    <tr>\n",
       "      <th>unique</th>\n",
       "      <td>39</td>\n",
       "    </tr>\n",
       "    <tr>\n",
       "      <th>top</th>\n",
       "      <td>1\\tState\\tAndhra Pradesh\\t616\\t931\\t1207\\t4.4\\...</td>\n",
       "    </tr>\n",
       "    <tr>\n",
       "      <th>freq</th>\n",
       "      <td>1</td>\n",
       "    </tr>\n",
       "  </tbody>\n",
       "</table>\n",
       "</div>"
      ],
      "text/plain": [
       "       S. No\\tCategory\\tState/UT\\t2016\\t2017\\t2018\\tPercentage Share of State/UT (2018)\\tMid-Year Projected Population (in Lakhs) (2018)+\\tRate of Total Cyber Crimes (2018)++\n",
       "count                                                  39                                                                                                                     \n",
       "unique                                                 39                                                                                                                     \n",
       "top     1\\tState\\tAndhra Pradesh\\t616\\t931\\t1207\\t4.4\\...                                                                                                                     \n",
       "freq                                                    1                                                                                                                     "
      ]
     },
     "execution_count": 8,
     "metadata": {},
     "output_type": "execute_result"
    }
   ],
   "source": [
    "df.describe() "
   ]
  },
  {
   "cell_type": "code",
   "execution_count": 9,
   "metadata": {},
   "outputs": [
    {
     "name": "stdout",
     "output_type": "stream",
     "text": [
      "<class 'pandas.core.frame.DataFrame'>\n",
      "RangeIndex: 39 entries, 0 to 38\n",
      "Data columns (total 1 columns):\n",
      " #   Column                                                                                                                                                           Non-Null Count  Dtype \n",
      "---  ------                                                                                                                                                           --------------  ----- \n",
      " 0   S. No\tCategory\tState/UT\t2016\t2017\t2018\tPercentage Share of State/UT (2018)\tMid-Year Projected Population (in Lakhs) (2018)+\tRate of Total Cyber Crimes (2018)++  39 non-null     object\n",
      "dtypes: object(1)\n",
      "memory usage: 440.0+ bytes\n"
     ]
    }
   ],
   "source": [
    "df.info()"
   ]
  },
  {
   "cell_type": "code",
   "execution_count": 10,
   "metadata": {},
   "outputs": [],
   "source": [
    "# drop rows with missing values\n",
    "df = df.dropna()"
   ]
  },
  {
   "cell_type": "code",
   "execution_count": 12,
   "metadata": {},
   "outputs": [
    {
     "name": "stdout",
     "output_type": "stream",
     "text": [
      "S. No\\tCategory\\tState/UT\\t2016\\t2017\\t2018\\tPercentage Share of State/UT (2018)\\tMid-Year Projected Population (in Lakhs) (2018)+\\tRate of Total Cyber Crimes (2018)++    0\n",
      "dtype: int64\n"
     ]
    }
   ],
   "source": [
    "# check for missing values\n",
    "print(df.isnull().sum())"
   ]
  },
  {
   "cell_type": "code",
   "execution_count": null,
   "metadata": {},
   "outputs": [],
   "source": [
    "# remove duplicates\n",
    "df = df.drop_duplicates()"
   ]
  },
  {
   "cell_type": "code",
   "execution_count": null,
   "metadata": {},
   "outputs": [],
   "source": [
    "# Import the necessary libraries\n",
    "import pandas as pd\n",
    "from sklearn.model_selection import train_test_split\n",
    "from sklearn.tree import DecisionTreeClassifier\n",
    "from sklearn.metrics import accuracy_score\n",
    "\n",
    "\n",
    "# Read the CSV file with proper separator\n",
    "data = pd.read_csv(\"cyber_crimes.csv\", sep=\"\\t\")\n",
    "\n",
    "# Rename the columns\n",
    "data.columns = ['S. No', 'Category', 'State/UT', '2016', '2017', '2018', 'Percentage Share of State/UT (2018)', 'Mid-Year Projected Population (in Lakhs) (2018)+', 'Rate of Total Cyber Crimes (2018)++']\n",
    "\n",
    "# Print the first few rows to check the output\n",
    "print(data.head())\n",
    "\n",
    "\n",
    "print(data.columns)\n",
    "print(data.shape)\n",
    "\n",
    "\n",
    "# data.columns = ['S. No', 'Category', 'State/UT', '2016', '2017', '2018', 'Percentage Share of State/UT (2018)', 'Mid-Year Projected Population (in Lakhs) (2018)+', 'Rate of Total Cyber Crimes (2018)++']\n"
   ]
  },
  {
   "cell_type": "code",
   "execution_count": null,
   "metadata": {},
   "outputs": [],
   "source": [
    "import pandas as pd\n",
    "from sklearn.model_selection import train_test_split\n",
    "from sklearn.tree import DecisionTreeClassifier\n",
    "from sklearn.metrics import accuracy_score\n",
    "\n",
    "# Load data\n",
    "data = pd.read_csv(\"cyber_crimes.csv\")\n",
    "\n",
    "# Separate the features and target variable\n",
    "X = data.drop([\"2016\", \"2017\", \"Percentage Share of State/UT (2018)\", \"Mid-Year Projected Population (in Lakhs) (2018)+\", \"Rate of Total Cyber Crimes (2018)++\"], axis=1)\n",
    "y = data[\"Rate of Total Cyber Crimes (2018)++\"]\n",
    "\n",
    "# Split the data into training and testing sets\n",
    "X_train, X_test, y_train, y_test = train_test_split(X, y, test_size=0.2, random_state=42)\n",
    "\n",
    "# Train the model\n",
    "model = DecisionTreeClassifier()\n",
    "model.fit(X_train, y_train)\n",
    "\n",
    "# Make predictions on the testing set\n",
    "y_pred = model.predict(X_test)\n",
    "\n",
    "# Evaluate the model's accuracy\n",
    "accuracy = accuracy_score(y_test, y_pred)\n",
    "print(\"Accuracy:\", accuracy)\n"
   ]
  },
  {
   "cell_type": "code",
   "execution_count": 27,
   "metadata": {},
   "outputs": [],
   "source": [
    "import pandas as pd\n",
    "from sklearn.model_selection import train_test_split\n",
    "from sklearn.linear_model import LinearRegression\n",
    "from sklearn.metrics import r2_score\n"
   ]
  },
  {
   "cell_type": "code",
   "execution_count": 28,
   "metadata": {},
   "outputs": [],
   "source": [
    "data = pd.read_csv('cyber_crimes.csv')\n"
   ]
  },
  {
   "cell_type": "code",
   "execution_count": 32,
   "metadata": {},
   "outputs": [
    {
     "ename": "NameError",
     "evalue": "name 'X' is not defined",
     "output_type": "error",
     "traceback": [
      "\u001b[1;31m---------------------------------------------------------------------------\u001b[0m",
      "\u001b[1;31mNameError\u001b[0m                                 Traceback (most recent call last)",
      "\u001b[1;32md:\\project\\Mycode\\Algorithm.ipynb Cell 13\u001b[0m in \u001b[0;36m3\n\u001b[0;32m      <a href='vscode-notebook-cell:/d%3A/project/Mycode/Algorithm.ipynb#X16sZmlsZQ%3D%3D?line=0'>1</a>\u001b[0m \u001b[39m#Split the data into training and testing sets:\u001b[39;00m\n\u001b[1;32m----> <a href='vscode-notebook-cell:/d%3A/project/Mycode/Algorithm.ipynb#X16sZmlsZQ%3D%3D?line=2'>3</a>\u001b[0m X_train, X_test, y_train, y_test \u001b[39m=\u001b[39m train_test_split(X,y, test_size\u001b[39m=\u001b[39m\u001b[39m0.2\u001b[39m, random_state\u001b[39m=\u001b[39m\u001b[39m42\u001b[39m)\n",
      "\u001b[1;31mNameError\u001b[0m: name 'X' is not defined"
     ]
    }
   ],
   "source": [
    "#Split the data into training and testing sets:\n",
    "\n",
    "X_train, X_test, y_train, y_test = train_test_split(X,y, test_size=0.2, random_state=42)\n"
   ]
  },
  {
   "cell_type": "code",
   "execution_count": null,
   "metadata": {},
   "outputs": [],
   "source": [
    "#Train the model:\n",
    "\n",
    "\n",
    "model = LinearRegression()\n",
    "model.fit(X_train, y_train)\n"
   ]
  },
  {
   "cell_type": "code",
   "execution_count": null,
   "metadata": {},
   "outputs": [],
   "source": [
    "#Evaluate the model performance:\n",
    "\n",
    "r2 = r2_score(y_test, y_pred)\n",
    "print('R-squared:', r2)\n"
   ]
  },
  {
   "cell_type": "code",
   "execution_count": 1,
   "metadata": {},
   "outputs": [],
   "source": [
    "# Step 1: Data Preprocessing\n",
    "# Import necessary libraries\n",
    "import pandas as pd\n",
    "import numpy as np\n",
    "from sklearn.model_selection import train_test_split\n",
    "from sklearn.preprocessing import StandardScaler\n",
    "\n",
    "# Load the dataset\n",
    "data = pd.read_csv('cyber_crimes.csv')\n",
    "\n",
    "\n"
   ]
  },
  {
   "cell_type": "code",
   "execution_count": null,
   "metadata": {},
   "outputs": [],
   "source": [
    "# Split the dataset into training and validation sets\n",
    "X_train, X_val, y_train, y_val = train_test_split(data.drop('target_variable', axis=1), data['target_variable'], test_size=0.2, random_state=42)\n",
    "\n",
    "# Scale the numerical data\n",
    "scaler = StandardScaler()\n",
    "X_train[numerical_columns] = scaler.fit_transform(X_train[numerical_columns])\n",
    "X_val[numerical_columns] = scaler.transform(X_val[numerical_columns])\n",
    "\n",
    "# Step 2: Choosing a Model\n",
    "# Import necessary libraries\n",
    "from sklearn.linear_model import LogisticRegression\n",
    "\n",
    "# Instantiate the model\n",
    "model = LogisticRegression()\n",
    "\n",
    "# Step 3: Defining Model Architecture\n",
    "# There is no specific architecture to define for logistic regression.\n",
    "\n",
    "# Step 4: Training the Model\n",
    "# Train the model using the training dataset\n",
    "model.fit(X_train, y_train)\n",
    "\n",
    "# Step 5: Evaluating the Model\n",
    "# Import necessary libraries\n",
    "from sklearn.metrics import accuracy_score, precision_score, recall_score, f1_score\n",
    "\n",
    "# Predict the target variable using the validation dataset\n",
    "y_pred = model.predict(X_val)\n",
    "\n",
    "# Evaluate the model using various metrics\n",
    "accuracy = accuracy_score(y_val, y_pred)\n",
    "precision = precision_score(y_val, y_pred)\n",
    "recall = recall_score(y_val, y_pred)\n",
    "f1 = f1_score(y_val, y_pred)\n",
    "\n",
    "# Step 6: Fine-tuning the Model\n",
    "# You can fine-tune the model by adjusting hyperparameters or changing the model architecture.\n",
    "\n",
    "# Step 7: Testing the Model\n",
    "# Load the test dataset\n",
    "test_data = pd.read_csv('path/to/test/dataset.csv')\n",
    "\n",
    "# Preprocess the test dataset\n",
    "test_data[numerical_columns] = scaler.transform(test_data[numerical_columns])\n",
    "\n",
    "# Predict the target variable using the test dataset\n",
    "y_test_pred = model.predict(test_data)\n",
    "\n",
    "# Save the predictions to a file\n",
    "np.savetxt('path/to/predictions.csv', y_test_pred, delimiter=',')"
   ]
  },
  {
   "cell_type": "code",
   "execution_count": 6,
   "metadata": {},
   "outputs": [
    {
     "name": "stdout",
     "output_type": "stream",
     "text": [
      "Index(['S. No', 'Category', 'State/UT', '2016', '2017', '2018',\n",
      "       'Percentage Share of State/UT (2018)',\n",
      "       'Mid-Year Projected Population (in Lakhs) (2018)+',\n",
      "       'Rate of Total Cyber Crimes (2018)++'],\n",
      "      dtype='object')\n"
     ]
    }
   ],
   "source": [
    "# Step 1: Data Preprocessing\n",
    "# Import necessary libraries\n",
    "import pandas as pd\n",
    "from sklearn.model_selection import train_test_split\n",
    "from sklearn.preprocessing import StandardScaler\n",
    "\n",
    "# Load the dataset\n",
    "data = pd.read_csv('cyber_crimes.csv', delimiter='\\t')\n",
    "print(data.columns)\n",
    "\n",
    "\n"
   ]
  },
  {
   "cell_type": "code",
   "execution_count": 7,
   "metadata": {},
   "outputs": [
    {
     "ename": "KeyError",
     "evalue": "'S. No\\tCategory\\tState/UT\\t2016\\t2017\\t2018\\tPercentage Share of State/UT (2018)\\tMid-Year Projected Population (in Lakhs) (2018)+\\tRate of Total Cyber Crimes (2018)++'",
     "output_type": "error",
     "traceback": [
      "\u001b[1;31m---------------------------------------------------------------------------\u001b[0m",
      "\u001b[1;31mKeyError\u001b[0m                                  Traceback (most recent call last)",
      "File \u001b[1;32mc:\\Users\\asus\\AppData\\Local\\Programs\\Python\\Python39\\lib\\site-packages\\pandas\\core\\indexes\\base.py:3802\u001b[0m, in \u001b[0;36mIndex.get_loc\u001b[1;34m(self, key, method, tolerance)\u001b[0m\n\u001b[0;32m   3801\u001b[0m \u001b[39mtry\u001b[39;00m:\n\u001b[1;32m-> 3802\u001b[0m     \u001b[39mreturn\u001b[39;00m \u001b[39mself\u001b[39;49m\u001b[39m.\u001b[39;49m_engine\u001b[39m.\u001b[39;49mget_loc(casted_key)\n\u001b[0;32m   3803\u001b[0m \u001b[39mexcept\u001b[39;00m \u001b[39mKeyError\u001b[39;00m \u001b[39mas\u001b[39;00m err:\n",
      "File \u001b[1;32mc:\\Users\\asus\\AppData\\Local\\Programs\\Python\\Python39\\lib\\site-packages\\pandas\\_libs\\index.pyx:138\u001b[0m, in \u001b[0;36mpandas._libs.index.IndexEngine.get_loc\u001b[1;34m()\u001b[0m\n",
      "File \u001b[1;32mc:\\Users\\asus\\AppData\\Local\\Programs\\Python\\Python39\\lib\\site-packages\\pandas\\_libs\\index.pyx:165\u001b[0m, in \u001b[0;36mpandas._libs.index.IndexEngine.get_loc\u001b[1;34m()\u001b[0m\n",
      "File \u001b[1;32mpandas\\_libs\\hashtable_class_helper.pxi:5745\u001b[0m, in \u001b[0;36mpandas._libs.hashtable.PyObjectHashTable.get_item\u001b[1;34m()\u001b[0m\n",
      "File \u001b[1;32mpandas\\_libs\\hashtable_class_helper.pxi:5753\u001b[0m, in \u001b[0;36mpandas._libs.hashtable.PyObjectHashTable.get_item\u001b[1;34m()\u001b[0m\n",
      "\u001b[1;31mKeyError\u001b[0m: 'S. No\\tCategory\\tState/UT\\t2016\\t2017\\t2018\\tPercentage Share of State/UT (2018)\\tMid-Year Projected Population (in Lakhs) (2018)+\\tRate of Total Cyber Crimes (2018)++'",
      "\nThe above exception was the direct cause of the following exception:\n",
      "\u001b[1;31mKeyError\u001b[0m                                  Traceback (most recent call last)",
      "\u001b[1;32md:\\project\\Mycode\\Algorithm.ipynb Cell 18\u001b[0m in \u001b[0;36m2\n\u001b[0;32m      <a href='vscode-notebook-cell:/d%3A/project/Mycode/Algorithm.ipynb#X24sZmlsZQ%3D%3D?line=0'>1</a>\u001b[0m \u001b[39m# Split the single column into multiple columns\u001b[39;00m\n\u001b[1;32m----> <a href='vscode-notebook-cell:/d%3A/project/Mycode/Algorithm.ipynb#X24sZmlsZQ%3D%3D?line=1'>2</a>\u001b[0m data \u001b[39m=\u001b[39m data[\u001b[39m'\u001b[39;49m\u001b[39mS. No\u001b[39;49m\u001b[39m\\t\u001b[39;49;00m\u001b[39mCategory\u001b[39;49m\u001b[39m\\t\u001b[39;49;00m\u001b[39mState/UT\u001b[39;49m\u001b[39m\\t\u001b[39;49;00m\u001b[39m2016\u001b[39;49m\u001b[39m\\t\u001b[39;49;00m\u001b[39m2017\u001b[39;49m\u001b[39m\\t\u001b[39;49;00m\u001b[39m2018\u001b[39;49m\u001b[39m\\t\u001b[39;49;00m\u001b[39mPercentage Share of State/UT (2018)\u001b[39;49m\u001b[39m\\t\u001b[39;49;00m\u001b[39mMid-Year Projected Population (in Lakhs) (2018)+\u001b[39;49m\u001b[39m\\t\u001b[39;49;00m\u001b[39mRate of Total Cyber Crimes (2018)++\u001b[39;49m\u001b[39m'\u001b[39;49m]\u001b[39m.\u001b[39mstr\u001b[39m.\u001b[39msplit(\u001b[39m'\u001b[39m\u001b[39m\\t\u001b[39;00m\u001b[39m'\u001b[39m, expand\u001b[39m=\u001b[39m\u001b[39mTrue\u001b[39;00m)\n\u001b[0;32m      <a href='vscode-notebook-cell:/d%3A/project/Mycode/Algorithm.ipynb#X24sZmlsZQ%3D%3D?line=2'>3</a>\u001b[0m data\u001b[39m.\u001b[39mcolumns \u001b[39m=\u001b[39m [\u001b[39m'\u001b[39m\u001b[39mS. No\u001b[39m\u001b[39m'\u001b[39m, \u001b[39m'\u001b[39m\u001b[39mCategory\u001b[39m\u001b[39m'\u001b[39m, \u001b[39m'\u001b[39m\u001b[39mState/UT\u001b[39m\u001b[39m'\u001b[39m, \u001b[39m'\u001b[39m\u001b[39m2016\u001b[39m\u001b[39m'\u001b[39m, \u001b[39m'\u001b[39m\u001b[39m2017\u001b[39m\u001b[39m'\u001b[39m, \u001b[39m'\u001b[39m\u001b[39m2018\u001b[39m\u001b[39m'\u001b[39m, \u001b[39m'\u001b[39m\u001b[39mPercentage Share of State/UT (2018)\u001b[39m\u001b[39m'\u001b[39m, \u001b[39m'\u001b[39m\u001b[39mMid-Year Projected Population (in Lakhs) (2018)+\u001b[39m\u001b[39m'\u001b[39m, \u001b[39m'\u001b[39m\u001b[39mRate of Total Cyber Crimes (2018)++\u001b[39m\u001b[39m'\u001b[39m]\n\u001b[0;32m      <a href='vscode-notebook-cell:/d%3A/project/Mycode/Algorithm.ipynb#X24sZmlsZQ%3D%3D?line=4'>5</a>\u001b[0m \u001b[39m# Select the columns you want to include in the model\u001b[39;00m\n",
      "File \u001b[1;32mc:\\Users\\asus\\AppData\\Local\\Programs\\Python\\Python39\\lib\\site-packages\\pandas\\core\\frame.py:3807\u001b[0m, in \u001b[0;36mDataFrame.__getitem__\u001b[1;34m(self, key)\u001b[0m\n\u001b[0;32m   3805\u001b[0m \u001b[39mif\u001b[39;00m \u001b[39mself\u001b[39m\u001b[39m.\u001b[39mcolumns\u001b[39m.\u001b[39mnlevels \u001b[39m>\u001b[39m \u001b[39m1\u001b[39m:\n\u001b[0;32m   3806\u001b[0m     \u001b[39mreturn\u001b[39;00m \u001b[39mself\u001b[39m\u001b[39m.\u001b[39m_getitem_multilevel(key)\n\u001b[1;32m-> 3807\u001b[0m indexer \u001b[39m=\u001b[39m \u001b[39mself\u001b[39;49m\u001b[39m.\u001b[39;49mcolumns\u001b[39m.\u001b[39;49mget_loc(key)\n\u001b[0;32m   3808\u001b[0m \u001b[39mif\u001b[39;00m is_integer(indexer):\n\u001b[0;32m   3809\u001b[0m     indexer \u001b[39m=\u001b[39m [indexer]\n",
      "File \u001b[1;32mc:\\Users\\asus\\AppData\\Local\\Programs\\Python\\Python39\\lib\\site-packages\\pandas\\core\\indexes\\base.py:3804\u001b[0m, in \u001b[0;36mIndex.get_loc\u001b[1;34m(self, key, method, tolerance)\u001b[0m\n\u001b[0;32m   3802\u001b[0m     \u001b[39mreturn\u001b[39;00m \u001b[39mself\u001b[39m\u001b[39m.\u001b[39m_engine\u001b[39m.\u001b[39mget_loc(casted_key)\n\u001b[0;32m   3803\u001b[0m \u001b[39mexcept\u001b[39;00m \u001b[39mKeyError\u001b[39;00m \u001b[39mas\u001b[39;00m err:\n\u001b[1;32m-> 3804\u001b[0m     \u001b[39mraise\u001b[39;00m \u001b[39mKeyError\u001b[39;00m(key) \u001b[39mfrom\u001b[39;00m \u001b[39merr\u001b[39;00m\n\u001b[0;32m   3805\u001b[0m \u001b[39mexcept\u001b[39;00m \u001b[39mTypeError\u001b[39;00m:\n\u001b[0;32m   3806\u001b[0m     \u001b[39m# If we have a listlike key, _check_indexing_error will raise\u001b[39;00m\n\u001b[0;32m   3807\u001b[0m     \u001b[39m#  InvalidIndexError. Otherwise we fall through and re-raise\u001b[39;00m\n\u001b[0;32m   3808\u001b[0m     \u001b[39m#  the TypeError.\u001b[39;00m\n\u001b[0;32m   3809\u001b[0m     \u001b[39mself\u001b[39m\u001b[39m.\u001b[39m_check_indexing_error(key)\n",
      "\u001b[1;31mKeyError\u001b[0m: 'S. No\\tCategory\\tState/UT\\t2016\\t2017\\t2018\\tPercentage Share of State/UT (2018)\\tMid-Year Projected Population (in Lakhs) (2018)+\\tRate of Total Cyber Crimes (2018)++'"
     ]
    }
   ],
   "source": [
    "# Split the single column into multiple columns\n",
    "data = data['S. No\\tCategory\\tState/UT\\t2016\\t2017\\t2018\\tPercentage Share of State/UT (2018)\\tMid-Year Projected Population (in Lakhs) (2018)+\\tRate of Total Cyber Crimes (2018)++'].str.split('\\t', expand=True)\n",
    "data.columns = ['S. No', 'Category', 'State/UT', '2016', '2017', '2018', 'Percentage Share of State/UT (2018)', 'Mid-Year Projected Population (in Lakhs) (2018)+', 'Rate of Total Cyber Crimes (2018)++']\n",
    "\n",
    "# Select the columns you want to include in the model\n",
    "columns_to_include = ['Category', 'State/UT', '2016', '2017', '2018', 'Rate of Total Cyber Crimes (2018)++']\n",
    "data = data[columns_to_include]\n",
    "\n",
    "# Convert the 'Category' and 'State/UT' columns to categorical variables\n",
    "data['Category'] = pd.Categorical(data['Category'])\n",
    "data['State/UT'] = pd.Categorical(data['State/UT'])\n",
    "\n",
    "# One-hot encode the categorical variables\n",
    "data = pd.get_dummies(data, columns=['Category', 'State/UT'])\n",
    "\n",
    "# Split the dataset into training and validation sets\n",
    "X_train, X_val, y_train, y_val = train_test_split(data.drop('Rate of Total Cyber Crimes (2018)++', axis=1), data['Rate of Total Cyber Crimes (2018)++'], test_size=0.2, random_state=42)\n",
    "\n",
    "# Scale the numerical data\n",
    "scaler = StandardScaler()\n",
    "X_train[['2016', '2017', '2018']] = scaler.fit_transform(X_train[['2016', '2017', '2018']])\n",
    "X_val[['2016', '2017', '2018']] = scaler.transform(X_val[['2016', '2017', '2018']])"
   ]
  }
 ],
 "metadata": {
  "kernelspec": {
   "display_name": "Python 3",
   "language": "python",
   "name": "python3"
  },
  "language_info": {
   "codemirror_mode": {
    "name": "ipython",
    "version": 3
   },
   "file_extension": ".py",
   "mimetype": "text/x-python",
   "name": "python",
   "nbconvert_exporter": "python",
   "pygments_lexer": "ipython3",
   "version": "3.9.2"
  },
  "orig_nbformat": 4,
  "vscode": {
   "interpreter": {
    "hash": "b667cebad148e7b094a58ee81f940c685de1dd70a003a9ccdca4a5792431bee5"
   }
  }
 },
 "nbformat": 4,
 "nbformat_minor": 2
}
